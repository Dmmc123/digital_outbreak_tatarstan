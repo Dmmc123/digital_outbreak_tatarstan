{
 "nbformat": 4,
 "nbformat_minor": 0,
 "metadata": {
  "colab": {
   "name": "baseline.ipynb",
   "provenance": [],
   "collapsed_sections": []
  },
  "kernelspec": {
   "name": "python3",
   "display_name": "Python 3"
  },
  "language_info": {
   "name": "python"
  },
  "accelerator": "GPU",
  "gpuClass": "standard"
 },
 "cells": [
  {
   "cell_type": "code",
   "source": [
    "import matplotlib.pyplot as plt\n",
    "!pip install map-boxes"
   ],
   "metadata": {
    "colab": {
     "base_uri": "https://localhost:8080/"
    },
    "id": "p5tXdbZ4Cv-0",
    "outputId": "19667e8b-96b9-4793-ce25-575088fdb9b7",
    "pycharm": {
     "name": "#%%\n"
    }
   },
   "execution_count": 1,
   "outputs": [
    {
     "name": "stdout",
     "output_type": "stream",
     "text": [
      "Requirement already satisfied: map-boxes in /home/ruslan/miniconda3/lib/python3.9/site-packages (1.0.5)\r\n",
      "Requirement already satisfied: pandas in /home/ruslan/miniconda3/lib/python3.9/site-packages (from map-boxes) (1.4.2)\r\n",
      "Requirement already satisfied: numpy in /home/ruslan/miniconda3/lib/python3.9/site-packages (from map-boxes) (1.21.2)\r\n",
      "Requirement already satisfied: pytz>=2020.1 in /home/ruslan/miniconda3/lib/python3.9/site-packages (from pandas->map-boxes) (2021.3)\r\n",
      "Requirement already satisfied: python-dateutil>=2.8.1 in /home/ruslan/miniconda3/lib/python3.9/site-packages (from pandas->map-boxes) (2.8.2)\r\n",
      "Requirement already satisfied: six>=1.5 in /home/ruslan/miniconda3/lib/python3.9/site-packages (from python-dateutil>=2.8.1->pandas->map-boxes) (1.16.0)\r\n",
      "\u001B[33mWARNING: You are using pip version 22.0.4; however, version 22.2.2 is available.\r\n",
      "You should consider upgrading via the '/home/ruslan/miniconda3/bin/python -m pip install --upgrade pip' command.\u001B[0m\u001B[33m\r\n",
      "\u001B[0m"
     ]
    }
   ]
  },
  {
   "cell_type": "code",
   "execution_count": 2,
   "metadata": {
    "colab": {
     "base_uri": "https://localhost:8080/"
    },
    "id": "VkOJXFmilOMb",
    "outputId": "842c134f-435f-4093-b6ab-372fd6c01767",
    "pycharm": {
     "name": "#%%\n"
    }
   },
   "outputs": [
    {
     "name": "stdout",
     "output_type": "stream",
     "text": [
      "Couldn't import fast version of function compute_overlap, will use slow one. Check cython intallation\n"
     ]
    }
   ],
   "source": [
    "import os\n",
    "import shutil\n",
    "import pandas as pd\n",
    "from sklearn.model_selection import train_test_split\n",
    "from map_boxes import mean_average_precision_for_boxes\n",
    "import pandas as pd\n",
    "from pathlib import Path\n",
    "import random"
   ]
  },
  {
   "cell_type": "code",
   "source": [
    "!git clone https://github.com/WongKinYiu/yolov7\n",
    "!pip install -r requirements.txt"
   ],
   "metadata": {
    "colab": {
     "base_uri": "https://localhost:8080/"
    },
    "id": "_6oMEgW87rEZ",
    "outputId": "fe594cc9-3890-4cd4-b83d-324549df3534",
    "pycharm": {
     "name": "#%%\n"
    }
   },
   "execution_count": 3,
   "outputs": [
    {
     "name": "stdout",
     "output_type": "stream",
     "text": [
      "fatal: destination path 'yolov7' already exists and is not an empty directory.\r\n",
      "\u001B[31mERROR: Could not open requirements file: [Errno 2] No such file or directory: 'requirements.txt'\u001B[0m\u001B[31m\r\n",
      "\u001B[0m\u001B[33mWARNING: You are using pip version 22.0.4; however, version 22.2.2 is available.\r\n",
      "You should consider upgrading via the '/home/ruslan/miniconda3/bin/python -m pip install --upgrade pip' command.\u001B[0m\u001B[33m\r\n",
      "\u001B[0m"
     ]
    }
   ]
  },
  {
   "cell_type": "code",
   "execution_count": 4,
   "outputs": [
    {
     "name": "stdout",
     "output_type": "stream",
     "text": [
      "/home/ruslan/Downloads/Telegram Desktop/Татарстан/yolov7\n"
     ]
    }
   ],
   "source": [
    "%cd yolov7"
   ],
   "metadata": {
    "collapsed": false,
    "pycharm": {
     "name": "#%%\n"
    }
   }
  },
  {
   "cell_type": "code",
   "execution_count": null,
   "outputs": [
    {
     "name": "stdout",
     "output_type": "stream",
     "text": [
      "Namespace(weights=['../final.pt'], source='../test_dataset_test/test/images', img_size=640, conf_thres=0.001, iou_thres=0.45, device='', view_img=False, save_txt=True, save_conf=True, nosave=True, classes=None, agnostic_nms=False, augment=False, update=False, project='runs/detect', name='exp', exist_ok=False, no_trace=False)\r\n",
      "YOLOR 🚀 2022-7-28 torch 1.10.1 CPU\r\n",
      "\r\n",
      "Fusing layers... \r\n",
      "/home/ruslan/miniconda3/lib/python3.9/site-packages/torch/functional.py:445: UserWarning: torch.meshgrid: in an upcoming release, it will be required to pass the indexing argument. (Triggered internally at  /opt/conda/conda-bld/pytorch_1639180549130/work/aten/src/ATen/native/TensorShape.cpp:2157.)\r\n",
      "  return _VF.meshgrid(tensors, **kwargs)  # type: ignore[attr-defined]\r\n",
      "Model Summary: 819 layers, 164893160 parameters, 0 gradients, 225.7 GFLOPS\r\n",
      " Convert model to Traced-model... \r\n",
      " traced_script_module saved! \r\n",
      " model is traced! \r\n",
      "\r\n"
     ]
    }
   ],
   "source": [
    "# Run evaluation\n",
    "# !python detect.py --weights ../best3.pt --conf 0.4 --source data_for_yolo/data/images/test --save-txt --save-conf\n",
    "!python detect.py --weights ../final.pt --conf 0.001 --source ../test_dataset_test/test/images --save-txt --save-conf --nosave\n",
    "# !python detect.py --weights ../best8.pt --conf 0.1 --source data_for_yolo/data/images/test --save-txt --save-conf --nosave"
   ],
   "metadata": {
    "collapsed": false,
    "pycharm": {
     "name": "#%%\n",
     "is_executing": true
    }
   }
  },
  {
   "cell_type": "code",
   "execution_count": 77,
   "outputs": [
    {
     "data": {
      "text/plain": "LabelName\n0    8138\n1    1890\n2     702\n3    2310\n4     118\nName: ImageID, dtype: int64"
     },
     "execution_count": 77,
     "metadata": {},
     "output_type": "execute_result"
    }
   ],
   "source": [
    "# directory with yolo results\n",
    "labels_dir = \"runs/detect/exp13/labels\"\n",
    "images_dir = \"../test_dataset_test/test/images\"\n",
    "# images_dir = \"data_for_yolo/data/images/test\"\n",
    "# get filenames of marked images\n",
    "detected_images = [str(p) for p in Path(images_dir).rglob(\"*.jpg\")]\n",
    "# create a confidence lookup\n",
    "conf_lookup = dict(zip(range(5), [0.08, 0.065, 0.07, 0.05, 0.1]))\n",
    "# conf_lookup = dict(zip(range(5), [0.1 for _ in range(5)]))\n",
    "# populate submission\n",
    "report_data = []\n",
    "for image in detected_images:\n",
    "    # open the predicted labels\n",
    "    try:\n",
    "        with open(f\"{labels_dir}/{image.split('/')[-1].replace('.jpg', '.txt')}\", 'r') as f:\n",
    "            labels = [line.split(' ') for line in f.read().split('\\n') if line not in ['\\n', '']]\n",
    "            # work with detected instance separately\n",
    "            # print(labels)\n",
    "            for class_label, *xywh, conf in labels:\n",
    "                # print(class_label, conf, [x, y, w, h])\n",
    "                x, y, w, h = [float(x) for x in xywh]\n",
    "                xmin = x - w / 2\n",
    "                xmax = x + w / 2\n",
    "                ymin = y - h / 2\n",
    "                ymax = y + h / 2\n",
    "                conf = float(conf)\n",
    "                class_label = int(class_label)\n",
    "                # if class_label == 2 and conf > 0.01:\n",
    "                #     report_data.append([image.split('/')[-1], class_label, conf, xmin, xmax, ymin, ymax])\n",
    "                # elif class_label != 2 and conf > 0.1:\n",
    "                #     report_data.append([image.split('/')[-1], class_label, conf, xmin, xmax, ymin, ymax])\n",
    "                if conf > conf_lookup[class_label]:\n",
    "                    report_data.append([image.split('/')[-1], class_label, conf, xmin, xmax, ymin, ymax])\n",
    "    except:\n",
    "        print(image)\n",
    "# create dataframe out of all of it\n",
    "df = pd.DataFrame(report_data, columns=['ImageID', 'LabelName', 'Conf', 'XMin', 'XMax', 'YMin', 'YMax'])\n",
    "# save dataframe\n",
    "df.to_csv(\"../report_last.csv\", sep=';', index=False)\n",
    "# stats info\n",
    "df.groupby(\"LabelName\")[\"ImageID\"].count()"
   ],
   "metadata": {
    "collapsed": false,
    "pycharm": {
     "name": "#%%\n"
    }
   }
  },
  {
   "cell_type": "code",
   "execution_count": 69,
   "outputs": [
    {
     "data": {
      "text/plain": "LabelName\n0    8610\n1    2190\n2     746\n3    2863\n4     122\nName: ImageID, dtype: int64"
     },
     "execution_count": 69,
     "metadata": {},
     "output_type": "execute_result"
    }
   ],
   "source": [
    "prev_report = pd.read_csv(\"../report_616.csv\", sep=';')\n",
    "prev_report.groupby(\"LabelName\")[\"ImageID\"].count()"
   ],
   "metadata": {
    "collapsed": false,
    "pycharm": {
     "name": "#%%\n"
    }
   }
  }
 ]
}